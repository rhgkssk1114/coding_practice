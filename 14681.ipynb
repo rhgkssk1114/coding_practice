{
 "cells": [
  {
   "cell_type": "code",
   "execution_count": 3,
   "id": "7b621e16",
   "metadata": {},
   "outputs": [
    {
     "name": "stdout",
     "output_type": "stream",
     "text": [
      "3\n",
      "-2\n",
      "4\n"
     ]
    }
   ],
   "source": [
    "a = int(input())\n",
    "b = int(input())\n",
    "\n",
    "if a>0 and b>0:\n",
    "    print(\"1\")\n",
    "elif a<0 and b>0:\n",
    "    print(\"2\")\n",
    "elif a<0 and b<0:\n",
    "    print(\"3\")\n",
    "elif a>0 and b<0:\n",
    "    print(\"4\")"
   ]
  }
 ],
 "metadata": {
  "kernelspec": {
   "display_name": "Python 3 (ipykernel)",
   "language": "python",
   "name": "python3"
  },
  "language_info": {
   "codemirror_mode": {
    "name": "ipython",
    "version": 3
   },
   "file_extension": ".py",
   "mimetype": "text/x-python",
   "name": "python",
   "nbconvert_exporter": "python",
   "pygments_lexer": "ipython3",
   "version": "3.8.10"
  }
 },
 "nbformat": 4,
 "nbformat_minor": 5
}
